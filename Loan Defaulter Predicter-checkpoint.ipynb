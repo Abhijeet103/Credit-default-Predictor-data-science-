{
 "cells": [
  {
   "cell_type": "code",
   "execution_count": 19,
   "id": "d32ff521",
   "metadata": {},
   "outputs": [
    {
     "data": {
      "text/html": [
       "<div>\n",
       "<style scoped>\n",
       "    .dataframe tbody tr th:only-of-type {\n",
       "        vertical-align: middle;\n",
       "    }\n",
       "\n",
       "    .dataframe tbody tr th {\n",
       "        vertical-align: top;\n",
       "    }\n",
       "\n",
       "    .dataframe thead th {\n",
       "        text-align: right;\n",
       "    }\n",
       "</style>\n",
       "<table border=\"1\" class=\"dataframe\">\n",
       "  <thead>\n",
       "    <tr style=\"text-align: right;\">\n",
       "      <th></th>\n",
       "      <th>Id</th>\n",
       "      <th>income</th>\n",
       "      <th>age</th>\n",
       "      <th>experience</th>\n",
       "      <th>married</th>\n",
       "      <th>house_ownership</th>\n",
       "      <th>car_ownership</th>\n",
       "      <th>profession</th>\n",
       "      <th>city</th>\n",
       "      <th>state</th>\n",
       "      <th>current_job_years</th>\n",
       "      <th>current_house_years</th>\n",
       "      <th>risk_flag</th>\n",
       "    </tr>\n",
       "  </thead>\n",
       "  <tbody>\n",
       "    <tr>\n",
       "      <th>0</th>\n",
       "      <td>1</td>\n",
       "      <td>1303835</td>\n",
       "      <td>23</td>\n",
       "      <td>3</td>\n",
       "      <td>single</td>\n",
       "      <td>rented</td>\n",
       "      <td>no</td>\n",
       "      <td>Mechanical_engineer</td>\n",
       "      <td>Rewa</td>\n",
       "      <td>Madhya_Pradesh</td>\n",
       "      <td>3</td>\n",
       "      <td>13</td>\n",
       "      <td>0</td>\n",
       "    </tr>\n",
       "    <tr>\n",
       "      <th>1</th>\n",
       "      <td>2</td>\n",
       "      <td>7574516</td>\n",
       "      <td>40</td>\n",
       "      <td>10</td>\n",
       "      <td>single</td>\n",
       "      <td>rented</td>\n",
       "      <td>no</td>\n",
       "      <td>Software_Developer</td>\n",
       "      <td>Parbhani</td>\n",
       "      <td>Maharashtra</td>\n",
       "      <td>9</td>\n",
       "      <td>13</td>\n",
       "      <td>0</td>\n",
       "    </tr>\n",
       "    <tr>\n",
       "      <th>2</th>\n",
       "      <td>3</td>\n",
       "      <td>3991815</td>\n",
       "      <td>66</td>\n",
       "      <td>4</td>\n",
       "      <td>married</td>\n",
       "      <td>rented</td>\n",
       "      <td>no</td>\n",
       "      <td>Technical_writer</td>\n",
       "      <td>Alappuzha</td>\n",
       "      <td>Kerala</td>\n",
       "      <td>4</td>\n",
       "      <td>10</td>\n",
       "      <td>0</td>\n",
       "    </tr>\n",
       "    <tr>\n",
       "      <th>3</th>\n",
       "      <td>4</td>\n",
       "      <td>6256451</td>\n",
       "      <td>41</td>\n",
       "      <td>2</td>\n",
       "      <td>single</td>\n",
       "      <td>rented</td>\n",
       "      <td>yes</td>\n",
       "      <td>Software_Developer</td>\n",
       "      <td>Bhubaneswar</td>\n",
       "      <td>Odisha</td>\n",
       "      <td>2</td>\n",
       "      <td>12</td>\n",
       "      <td>1</td>\n",
       "    </tr>\n",
       "    <tr>\n",
       "      <th>4</th>\n",
       "      <td>5</td>\n",
       "      <td>5768871</td>\n",
       "      <td>47</td>\n",
       "      <td>11</td>\n",
       "      <td>single</td>\n",
       "      <td>rented</td>\n",
       "      <td>no</td>\n",
       "      <td>Civil_servant</td>\n",
       "      <td>Tiruchirappalli[10]</td>\n",
       "      <td>Tamil_Nadu</td>\n",
       "      <td>3</td>\n",
       "      <td>14</td>\n",
       "      <td>1</td>\n",
       "    </tr>\n",
       "  </tbody>\n",
       "</table>\n",
       "</div>"
      ],
      "text/plain": [
       "   Id   income  age  experience  married house_ownership car_ownership  \\\n",
       "0   1  1303835   23           3   single          rented            no   \n",
       "1   2  7574516   40          10   single          rented            no   \n",
       "2   3  3991815   66           4  married          rented            no   \n",
       "3   4  6256451   41           2   single          rented           yes   \n",
       "4   5  5768871   47          11   single          rented            no   \n",
       "\n",
       "            profession                 city           state  \\\n",
       "0  Mechanical_engineer                 Rewa  Madhya_Pradesh   \n",
       "1   Software_Developer             Parbhani     Maharashtra   \n",
       "2     Technical_writer            Alappuzha          Kerala   \n",
       "3   Software_Developer          Bhubaneswar          Odisha   \n",
       "4        Civil_servant  Tiruchirappalli[10]      Tamil_Nadu   \n",
       "\n",
       "   current_job_years  current_house_years  risk_flag  \n",
       "0                  3                   13          0  \n",
       "1                  9                   13          0  \n",
       "2                  4                   10          0  \n",
       "3                  2                   12          1  \n",
       "4                  3                   14          1  "
      ]
     },
     "execution_count": 19,
     "metadata": {},
     "output_type": "execute_result"
    }
   ],
   "source": [
    "import pandas as pd \n",
    "train_data=pd.read_csv(\"Training Data.csv\")\n",
    "test_data=pd.read_csv(\"Test Data.csv\")\n",
    "train_data.head()"
   ]
  },
  {
   "cell_type": "markdown",
   "id": "be03325a",
   "metadata": {},
   "source": [
    "# changing string in data set to integers "
   ]
  },
  {
   "cell_type": "code",
   "execution_count": 20,
   "id": "baff0ebf",
   "metadata": {
    "scrolled": true
   },
   "outputs": [
    {
     "data": {
      "text/html": [
       "<div>\n",
       "<style scoped>\n",
       "    .dataframe tbody tr th:only-of-type {\n",
       "        vertical-align: middle;\n",
       "    }\n",
       "\n",
       "    .dataframe tbody tr th {\n",
       "        vertical-align: top;\n",
       "    }\n",
       "\n",
       "    .dataframe thead th {\n",
       "        text-align: right;\n",
       "    }\n",
       "</style>\n",
       "<table border=\"1\" class=\"dataframe\">\n",
       "  <thead>\n",
       "    <tr style=\"text-align: right;\">\n",
       "      <th></th>\n",
       "      <th>Id</th>\n",
       "      <th>income</th>\n",
       "      <th>age</th>\n",
       "      <th>experience</th>\n",
       "      <th>married</th>\n",
       "      <th>house_ownership</th>\n",
       "      <th>car_ownership</th>\n",
       "      <th>profession</th>\n",
       "      <th>city</th>\n",
       "      <th>state</th>\n",
       "      <th>current_job_years</th>\n",
       "      <th>current_house_years</th>\n",
       "      <th>risk_flag</th>\n",
       "    </tr>\n",
       "  </thead>\n",
       "  <tbody>\n",
       "    <tr>\n",
       "      <th>0</th>\n",
       "      <td>1</td>\n",
       "      <td>1303835</td>\n",
       "      <td>23</td>\n",
       "      <td>3</td>\n",
       "      <td>1</td>\n",
       "      <td>1</td>\n",
       "      <td>0</td>\n",
       "      <td>0</td>\n",
       "      <td>0</td>\n",
       "      <td>0</td>\n",
       "      <td>3</td>\n",
       "      <td>13</td>\n",
       "      <td>0</td>\n",
       "    </tr>\n",
       "    <tr>\n",
       "      <th>1</th>\n",
       "      <td>2</td>\n",
       "      <td>7574516</td>\n",
       "      <td>40</td>\n",
       "      <td>10</td>\n",
       "      <td>1</td>\n",
       "      <td>1</td>\n",
       "      <td>0</td>\n",
       "      <td>1</td>\n",
       "      <td>1</td>\n",
       "      <td>1</td>\n",
       "      <td>9</td>\n",
       "      <td>13</td>\n",
       "      <td>0</td>\n",
       "    </tr>\n",
       "    <tr>\n",
       "      <th>2</th>\n",
       "      <td>3</td>\n",
       "      <td>3991815</td>\n",
       "      <td>66</td>\n",
       "      <td>4</td>\n",
       "      <td>0</td>\n",
       "      <td>1</td>\n",
       "      <td>0</td>\n",
       "      <td>2</td>\n",
       "      <td>2</td>\n",
       "      <td>2</td>\n",
       "      <td>4</td>\n",
       "      <td>10</td>\n",
       "      <td>0</td>\n",
       "    </tr>\n",
       "    <tr>\n",
       "      <th>3</th>\n",
       "      <td>4</td>\n",
       "      <td>6256451</td>\n",
       "      <td>41</td>\n",
       "      <td>2</td>\n",
       "      <td>1</td>\n",
       "      <td>1</td>\n",
       "      <td>1</td>\n",
       "      <td>1</td>\n",
       "      <td>3</td>\n",
       "      <td>3</td>\n",
       "      <td>2</td>\n",
       "      <td>12</td>\n",
       "      <td>1</td>\n",
       "    </tr>\n",
       "    <tr>\n",
       "      <th>4</th>\n",
       "      <td>5</td>\n",
       "      <td>5768871</td>\n",
       "      <td>47</td>\n",
       "      <td>11</td>\n",
       "      <td>1</td>\n",
       "      <td>1</td>\n",
       "      <td>0</td>\n",
       "      <td>3</td>\n",
       "      <td>4</td>\n",
       "      <td>4</td>\n",
       "      <td>3</td>\n",
       "      <td>14</td>\n",
       "      <td>1</td>\n",
       "    </tr>\n",
       "  </tbody>\n",
       "</table>\n",
       "</div>"
      ],
      "text/plain": [
       "   Id   income  age  experience  married  house_ownership  car_ownership  \\\n",
       "0   1  1303835   23           3        1                1              0   \n",
       "1   2  7574516   40          10        1                1              0   \n",
       "2   3  3991815   66           4        0                1              0   \n",
       "3   4  6256451   41           2        1                1              1   \n",
       "4   5  5768871   47          11        1                1              0   \n",
       "\n",
       "   profession  city  state  current_job_years  current_house_years  risk_flag  \n",
       "0           0     0      0                  3                   13          0  \n",
       "1           1     1      1                  9                   13          0  \n",
       "2           2     2      2                  4                   10          0  \n",
       "3           1     3      3                  2                   12          1  \n",
       "4           3     4      4                  3                   14          1  "
      ]
     },
     "execution_count": 20,
     "metadata": {},
     "output_type": "execute_result"
    }
   ],
   "source": [
    "train_data[\"profession\"]=pd.factorize(train_data.profession)[0]\n",
    "train_data[\"city\"]=pd.factorize(train_data.city)[0]\n",
    "train_data[\"state\"]=pd.factorize(train_data.state)[0]\n",
    "train_data[\"married\"] = train_data['married'].replace(['single'],1)\n",
    "train_data[\"married\"] = train_data['married'].replace(['married'],0)\n",
    "train_data[\"house_ownership\"] = train_data['house_ownership'].replace(['rented'],1)\n",
    "train_data[\"house_ownership\"] = train_data['house_ownership'].replace(['owned'],2)\n",
    "train_data[\"house_ownership\"] = train_data['house_ownership'].replace(['norent_noown'],0)\n",
    "# train_data[\"house_ownership\"]=pd.factorize(train_data.house_ownership)[0]\n",
    "#train_data[\"married\"]=pd.factorize(train_data.married)[0]\n",
    "train_data[\"car_ownership\"]=pd.factorize(train_data.car_ownership)[0]\n",
    "# train_data[\"assets\"]=(train_data[\"house_ownership\"]+train_data[\"car_ownership\"]+1)*train_data[\"income\"]\n",
    "#train_data[\"location\"]=train_data[\"city\"]+train_data[\"state\"]\n",
    "train_data.head()"
   ]
  },
  {
   "cell_type": "code",
   "execution_count": 21,
   "id": "ac208ef0",
   "metadata": {},
   "outputs": [
    {
     "data": {
      "text/html": [
       "<div>\n",
       "<style scoped>\n",
       "    .dataframe tbody tr th:only-of-type {\n",
       "        vertical-align: middle;\n",
       "    }\n",
       "\n",
       "    .dataframe tbody tr th {\n",
       "        vertical-align: top;\n",
       "    }\n",
       "\n",
       "    .dataframe thead th {\n",
       "        text-align: right;\n",
       "    }\n",
       "</style>\n",
       "<table border=\"1\" class=\"dataframe\">\n",
       "  <thead>\n",
       "    <tr style=\"text-align: right;\">\n",
       "      <th></th>\n",
       "      <th>income</th>\n",
       "      <th>age</th>\n",
       "      <th>experience</th>\n",
       "      <th>married</th>\n",
       "      <th>house_ownership</th>\n",
       "      <th>car_ownership</th>\n",
       "      <th>current_job_years</th>\n",
       "      <th>current_house_years</th>\n",
       "    </tr>\n",
       "  </thead>\n",
       "  <tbody>\n",
       "    <tr>\n",
       "      <th>0</th>\n",
       "      <td>7393090</td>\n",
       "      <td>59</td>\n",
       "      <td>19</td>\n",
       "      <td>1</td>\n",
       "      <td>1</td>\n",
       "      <td>0</td>\n",
       "      <td>4</td>\n",
       "      <td>13</td>\n",
       "    </tr>\n",
       "    <tr>\n",
       "      <th>1</th>\n",
       "      <td>1215004</td>\n",
       "      <td>25</td>\n",
       "      <td>5</td>\n",
       "      <td>1</td>\n",
       "      <td>1</td>\n",
       "      <td>0</td>\n",
       "      <td>5</td>\n",
       "      <td>10</td>\n",
       "    </tr>\n",
       "    <tr>\n",
       "      <th>2</th>\n",
       "      <td>8901342</td>\n",
       "      <td>50</td>\n",
       "      <td>12</td>\n",
       "      <td>1</td>\n",
       "      <td>1</td>\n",
       "      <td>0</td>\n",
       "      <td>9</td>\n",
       "      <td>14</td>\n",
       "    </tr>\n",
       "    <tr>\n",
       "      <th>3</th>\n",
       "      <td>1944421</td>\n",
       "      <td>49</td>\n",
       "      <td>9</td>\n",
       "      <td>0</td>\n",
       "      <td>1</td>\n",
       "      <td>1</td>\n",
       "      <td>3</td>\n",
       "      <td>12</td>\n",
       "    </tr>\n",
       "    <tr>\n",
       "      <th>4</th>\n",
       "      <td>13429</td>\n",
       "      <td>25</td>\n",
       "      <td>18</td>\n",
       "      <td>1</td>\n",
       "      <td>1</td>\n",
       "      <td>1</td>\n",
       "      <td>13</td>\n",
       "      <td>11</td>\n",
       "    </tr>\n",
       "  </tbody>\n",
       "</table>\n",
       "</div>"
      ],
      "text/plain": [
       "    income  age  experience  married  house_ownership  car_ownership  \\\n",
       "0  7393090   59          19        1                1              0   \n",
       "1  1215004   25           5        1                1              0   \n",
       "2  8901342   50          12        1                1              0   \n",
       "3  1944421   49           9        0                1              1   \n",
       "4    13429   25          18        1                1              1   \n",
       "\n",
       "   current_job_years  current_house_years  \n",
       "0                  4                   13  \n",
       "1                  5                   10  \n",
       "2                  9                   14  \n",
       "3                  3                   12  \n",
       "4                 13                   11  "
      ]
     },
     "execution_count": 21,
     "metadata": {},
     "output_type": "execute_result"
    }
   ],
   "source": [
    "test_data[\"profession\"]=pd.factorize(test_data.profession)[0]\n",
    "test_data[\"city\"]=pd.factorize(test_data.city)[0]\n",
    "test_data[\"state\"]=pd.factorize(test_data.state)[0]\n",
    "test_data[\"married\"] = test_data['married'].replace(['single'],1)\n",
    "test_data[\"married\"] = test_data['married'].replace(['married'],0)\n",
    "test_data[\"house_ownership\"] = test_data['house_ownership'].replace(['rented'],1)\n",
    "test_data[\"house_ownership\"] = test_data['house_ownership'].replace(['owned'],2)\n",
    "test_data[\"house_ownership\"] = test_data['house_ownership'].replace(['norent_noown'],0)\n",
    "test_data[\"car_ownership\"]=pd.factorize(test_data.car_ownership)[0]\n",
    "#test_data[\"married\"]=pd.factorize(test_data.married)[0]\n",
    "#test_data[\"assets\"]=(test_data[\"house_ownership\"]+test_data[\"car_ownership\"]+1)*test_data[\"income\"]\n",
    "\n",
    "#test_data[\"location\"]=test_data[\"city\"]+test_data[\"state\"]\n",
    "\n",
    "test=test_data.drop([\"id\",\"state\",\"profession\",\"city\"],axis=1)\n",
    "test.head()"
   ]
  },
  {
   "cell_type": "markdown",
   "id": "87acb2ce",
   "metadata": {},
   "source": [
    "# checking corelations"
   ]
  },
  {
   "cell_type": "code",
   "execution_count": 22,
   "id": "867f20b1",
   "metadata": {},
   "outputs": [
    {
     "data": {
      "text/plain": [
       "risk_flag              1.000000\n",
       "Id                     0.032153\n",
       "married                0.021092\n",
       "city                   0.004978\n",
       "profession            -0.001415\n",
       "income                -0.003091\n",
       "current_house_years   -0.004375\n",
       "state                 -0.008766\n",
       "house_ownership       -0.011171\n",
       "current_job_years     -0.016942\n",
       "age                   -0.021809\n",
       "car_ownership         -0.024036\n",
       "experience            -0.034523\n",
       "Name: risk_flag, dtype: float64"
      ]
     },
     "execution_count": 22,
     "metadata": {},
     "output_type": "execute_result"
    }
   ],
   "source": [
    "corr_matrix = train_data.corr()\n",
    "corr_matrix['risk_flag'].sort_values(ascending=False)"
   ]
  },
  {
   "cell_type": "code",
   "execution_count": 5,
   "id": "058a777d",
   "metadata": {
    "scrolled": true
   },
   "outputs": [],
   "source": [
    "# %matplotlib inline\n",
    "# import matplotlib.pyplot as plt \n",
    "# train_data.hist(bins=100, figsize=(500,200))"
   ]
  },
  {
   "cell_type": "code",
   "execution_count": 6,
   "id": "9987b55d",
   "metadata": {
    "scrolled": true
   },
   "outputs": [],
   "source": [
    "# train_data.plot(kind=\"scatter\", x=\"house_ownership\", y=\"risk_flag\", alpha=0.8)"
   ]
  },
  {
   "cell_type": "code",
   "execution_count": 7,
   "id": "01ec2793",
   "metadata": {},
   "outputs": [],
   "source": [
    "# train_data.plot(kind=\"scatter\", x=\"car_ownership\", y=\"risk_flag\", alpha=0.8)\n",
    "# train_data.plot(kind=\"scatter\", x=\"age\", y=\"risk_flag\", alpha=0.8)\n",
    "# train_data.plot(kind=\"scatter\", x=\"income\", y=\"risk_flag\", alpha=0.8)"
   ]
  },
  {
   "cell_type": "code",
   "execution_count": 15,
   "id": "a99b1821",
   "metadata": {},
   "outputs": [
    {
     "data": {
      "text/plain": [
       "<AxesSubplot:xlabel='married', ylabel='age'>"
      ]
     },
     "execution_count": 15,
     "metadata": {},
     "output_type": "execute_result"
    },
    {
     "data": {
      "image/png": "[encoded data removed]",
      "text/plain": [
       "<Figure size 432x288 with 1 Axes>"
      ]
     },
     "metadata": {
      "needs_background": "light"
     },
     "output_type": "display_data"
    }
   ],
   "source": [
    " train_data.plot(kind=\"scatter\", x=\"married\", y=\"age\", alpha=1)"
   ]
  },
  {
   "cell_type": "markdown",
   "id": "4a5e1f59",
   "metadata": {},
   "source": [
    "# test train spliting "
   ]
  },
  {
   "cell_type": "code",
   "execution_count": 24,
   "id": "e660a308",
   "metadata": {},
   "outputs": [],
   "source": [
    "# from sklearn.model_selection import StratifiedShuffleSplit\n",
    "# split = StratifiedShuffleSplit(n_splits=1, test_size=0.10, random_state=42)\n",
    "# for train_index, test_index in split.split(train_data, train_data[\"risk_flag\"]):\n",
    "#     strat_train_set = train_data.loc[train_index]\n",
    "#     strat_test_set = train_data.loc[test_index]\n",
    "\n",
    "# train_features=strat_train_set.drop([\"risk_flag\",\"Id\",\"state\",\"profession\",\"city\"],axis=1)\n",
    "# train_label=strat_train_set[\"risk_flag\"]\n",
    "# test_features=strat_test_set.drop([\"risk_flag\",\"Id\",\"state\",\"profession\",\"city\"],axis=1)\n",
    "# test_label=strat_test_set[\"risk_flag\"]\n",
    "# train_features.head()\n",
    "train_features=train_data.drop([\"risk_flag\",\"Id\",\"state\",\"profession\",\"city\"],axis=1)\n",
    "train_label=train_data[\"risk_flag\"]"
   ]
  },
  {
   "cell_type": "markdown",
   "id": "e9f76a6f",
   "metadata": {},
   "source": [
    "# choosing classification model "
   ]
  },
  {
   "cell_type": "code",
   "execution_count": 25,
   "id": "85d85be7",
   "metadata": {},
   "outputs": [
    {
     "data": {
      "text/plain": [
       "RandomForestClassifier(bootstrap=False, class_weight='balanced_subsample',\n",
       "                       max_depth=25, n_estimators=3, random_state=0)"
      ]
     },
     "execution_count": 25,
     "metadata": {},
     "output_type": "execute_result"
    }
   ],
   "source": [
    "from sklearn.tree import DecisionTreeClassifier\n",
    "from sklearn.ensemble import RandomForestClassifier\n",
    "#clf=DecisionTreeClassifier(random_state=0,criterion=\"entropy\",min_impurity_decrease=0,class_weight=\"balanced\",max_depth=38)\n",
    "clf=RandomForestClassifier(random_state=0,criterion=\"gini\",class_weight=\"balanced_subsample\",n_estimators=3,bootstrap=False,max_depth=25)\n",
    "#clf=SGDClassifier()\n",
    "#clf=KNeighborsClassifier()\n",
    "#clf=SVC()\n",
    "clf.fit(train_features,train_label)\n",
    "# predicted_label=clf.predict(test_features)"
   ]
  },
  {
   "cell_type": "markdown",
   "id": "8db61efb",
   "metadata": {},
   "source": [
    "# precision, recall and f1"
   ]
  },
  {
   "cell_type": "code",
   "execution_count": null,
   "id": "770b9098",
   "metadata": {},
   "outputs": [],
   "source": [
    "from sklearn.metrics import precision_score, recall_score,f1_score,confusion_matrix,roc_auc_score\n",
    "p=precision_score(test_label, predicted_label)\n",
    "re=recall_score(test_label, predicted_label)\n",
    "f=f1_score(test_label, predicted_label) \n",
    "confusion_matrix(test_label,predicted_label)\n",
    "r=roc_auc_score(test_label,predicted_label)\n",
    "print(f\"roc_auc_score :{r} , f1 score : {f} , precission: {p},recall :{re} \")\n",
    "# f1 score=0.62\n",
    "#dropping state r= 0.86"
   ]
  },
  {
   "cell_type": "markdown",
   "id": "c2d68289",
   "metadata": {},
   "source": [
    "# predicting the real test data"
   ]
  },
  {
   "cell_type": "code",
   "execution_count": 26,
   "id": "7dc4f309",
   "metadata": {},
   "outputs": [],
   "source": [
    "predicted_labels=clf.predict(test)"
   ]
  },
  {
   "cell_type": "code",
   "execution_count": 27,
   "id": "2b10417f",
   "metadata": {},
   "outputs": [
    {
     "data": {
      "text/plain": [
       "array([0, 0, 0, ..., 0, 0, 1], dtype=int64)"
      ]
     },
     "execution_count": 27,
     "metadata": {},
     "output_type": "execute_result"
    }
   ],
   "source": [
    "predicted_labels"
   ]
  },
  {
   "cell_type": "markdown",
   "id": "de7bf7c6",
   "metadata": {},
   "source": [
    "# making a csv file"
   ]
  },
  {
   "cell_type": "code",
   "execution_count": 28,
   "id": "ed62b513",
   "metadata": {},
   "outputs": [],
   "source": [
    "arr=[]\n",
    "for i in range(1,28001):\n",
    "    arr.append(i)\n",
    "predicted_data=pd.DataFrame(arr,columns=[\"id\"])"
   ]
  },
  {
   "cell_type": "code",
   "execution_count": 29,
   "id": "aa5d1d45",
   "metadata": {},
   "outputs": [],
   "source": [
    "predicted_data[\"risk_flag\"]=predicted_labels"
   ]
  },
  {
   "cell_type": "code",
   "execution_count": 30,
   "id": "d225b587",
   "metadata": {},
   "outputs": [
    {
     "data": {
      "text/html": [
       "<div>\n",
       "<style scoped>\n",
       "    .dataframe tbody tr th:only-of-type {\n",
       "        vertical-align: middle;\n",
       "    }\n",
       "\n",
       "    .dataframe tbody tr th {\n",
       "        vertical-align: top;\n",
       "    }\n",
       "\n",
       "    .dataframe thead th {\n",
       "        text-align: right;\n",
       "    }\n",
       "</style>\n",
       "<table border=\"1\" class=\"dataframe\">\n",
       "  <thead>\n",
       "    <tr style=\"text-align: right;\">\n",
       "      <th></th>\n",
       "      <th>id</th>\n",
       "      <th>risk_flag</th>\n",
       "    </tr>\n",
       "  </thead>\n",
       "  <tbody>\n",
       "    <tr>\n",
       "      <th>0</th>\n",
       "      <td>1</td>\n",
       "      <td>0</td>\n",
       "    </tr>\n",
       "    <tr>\n",
       "      <th>1</th>\n",
       "      <td>2</td>\n",
       "      <td>0</td>\n",
       "    </tr>\n",
       "    <tr>\n",
       "      <th>2</th>\n",
       "      <td>3</td>\n",
       "      <td>0</td>\n",
       "    </tr>\n",
       "    <tr>\n",
       "      <th>3</th>\n",
       "      <td>4</td>\n",
       "      <td>0</td>\n",
       "    </tr>\n",
       "    <tr>\n",
       "      <th>4</th>\n",
       "      <td>5</td>\n",
       "      <td>0</td>\n",
       "    </tr>\n",
       "    <tr>\n",
       "      <th>...</th>\n",
       "      <td>...</td>\n",
       "      <td>...</td>\n",
       "    </tr>\n",
       "    <tr>\n",
       "      <th>27995</th>\n",
       "      <td>27996</td>\n",
       "      <td>0</td>\n",
       "    </tr>\n",
       "    <tr>\n",
       "      <th>27996</th>\n",
       "      <td>27997</td>\n",
       "      <td>0</td>\n",
       "    </tr>\n",
       "    <tr>\n",
       "      <th>27997</th>\n",
       "      <td>27998</td>\n",
       "      <td>0</td>\n",
       "    </tr>\n",
       "    <tr>\n",
       "      <th>27998</th>\n",
       "      <td>27999</td>\n",
       "      <td>0</td>\n",
       "    </tr>\n",
       "    <tr>\n",
       "      <th>27999</th>\n",
       "      <td>28000</td>\n",
       "      <td>1</td>\n",
       "    </tr>\n",
       "  </tbody>\n",
       "</table>\n",
       "<p>28000 rows × 2 columns</p>\n",
       "</div>"
      ],
      "text/plain": [
       "          id  risk_flag\n",
       "0          1          0\n",
       "1          2          0\n",
       "2          3          0\n",
       "3          4          0\n",
       "4          5          0\n",
       "...      ...        ...\n",
       "27995  27996          0\n",
       "27996  27997          0\n",
       "27997  27998          0\n",
       "27998  27999          0\n",
       "27999  28000          1\n",
       "\n",
       "[28000 rows x 2 columns]"
      ]
     },
     "execution_count": 30,
     "metadata": {},
     "output_type": "execute_result"
    }
   ],
   "source": [
    "predicted_data"
   ]
  },
  {
   "cell_type": "code",
   "execution_count": 31,
   "id": "7ee6c3e4",
   "metadata": {},
   "outputs": [],
   "source": [
    "predicted_data.to_csv(\"data_pred_gini3.csv\",index=False)"
   ]
  },
  {
   "cell_type": "code",
   "execution_count": null,
   "id": "2edc68fa",
   "metadata": {},
   "outputs": [],
   "source": []
  },
  {
   "cell_type": "code",
   "execution_count": null,
   "id": "b3c108cd",
   "metadata": {},
   "outputs": [],
   "source": []
  }
 ],
 "metadata": {
  "kernelspec": {
   "display_name": "Python 3",
   "language": "python",
   "name": "python3"
  },
  "language_info": {
   "codemirror_mode": {
    "name": "ipython",
    "version": 3
   },
   "file_extension": ".py",
   "mimetype": "text/x-python",
   "name": "python",
   "nbconvert_exporter": "python",
   "pygments_lexer": "ipython3",
   "version": "3.9.1"
  }
 },
 "nbformat": 4,
 "nbformat_minor": 5
}
